{
 "cells": [
  {
   "cell_type": "markdown",
   "id": "69caf5cd",
   "metadata": {},
   "source": [
    "# Self-Similarity Matrices"
   ]
  },
  {
   "cell_type": "code",
   "execution_count": null,
   "id": "72d6a8ee",
   "metadata": {},
   "outputs": [],
   "source": [
    "import numpy as np\n",
    "import matplotlib.pyplot as plt\n",
    "import librosa"
   ]
  },
  {
   "cell_type": "code",
   "execution_count": null,
   "id": "f6fe896a",
   "metadata": {},
   "outputs": [],
   "source": [
    "y1, sr = librosa.load(\"smooth.mp3\")\n",
    "hop = 512\n",
    "X = librosa.feature.chroma_cqt(y=y1, hop_length=hop)\n",
    "plt.figure(figsize=(12, 3))\n",
    "plt.imshow(X, aspect='auto', interpolation='none', cmap='magma')\n",
    "plt.gca().invert_yaxis()"
   ]
  },
  {
   "cell_type": "code",
   "execution_count": null,
   "id": "263fdea4",
   "metadata": {},
   "outputs": [],
   "source": [
    "y2, sr = librosa.load(\"aliensmooth.mp3\")\n",
    "hop = 512\n",
    "X2 = librosa.feature.chroma_cqt(y=y2, hop_length=hop)\n",
    "plt.figure(figsize=(12, 3))\n",
    "plt.imshow(X2, aspect='auto', interpolation='none', cmap='magma')\n",
    "plt.gca().invert_yaxis()"
   ]
  },
  {
   "cell_type": "markdown",
   "id": "b377b140",
   "metadata": {},
   "source": [
    "## Making self-similarity matrices\n",
    "\n",
    "Make a method that takes in a chromagram (chroma spectrogram) $X$ with $M$ columns and which computes an $M \\times M$ array $D$ where\n",
    "\n",
    "## $D_{i, j} = \\frac{X_i \\cdot X_j}{|X_i| |X_j|} $\n",
    "\n"
   ]
  },
  {
   "cell_type": "code",
   "execution_count": null,
   "id": "5f9ff14a",
   "metadata": {},
   "outputs": [],
   "source": []
  },
  {
   "cell_type": "markdown",
   "id": "919111aa",
   "metadata": {},
   "source": [
    "## Time-Averaging Chunks\n",
    "\n",
    "Create a method that replaces a $12 x M$ chromagram $C$ by a $12 x (M/f)$ chromagram $C_f$, in which each column of $C_f$ is the average of $f$ contiguous columns in $C$\n"
   ]
  },
  {
   "cell_type": "code",
   "execution_count": null,
   "id": "46049088",
   "metadata": {},
   "outputs": [],
   "source": []
  },
  {
   "cell_type": "markdown",
   "id": "d74f3b55",
   "metadata": {},
   "source": [
    "## Diagonally Enhance\n",
    "\n",
    "Write a method that takes in an $N \\times N$ self-similarity matrix $D$ and a parameter $K$, and which returns a $(N-K+1) \\times (N-K+1)$ self-similarity matrix $S$ where \n",
    "\n",
    "## $S_{i, j} = \\sum_{k=0}^{K-1} D_{i+k, j+k} $\n"
   ]
  },
  {
   "cell_type": "code",
   "execution_count": null,
   "id": "ada0e644",
   "metadata": {},
   "outputs": [],
   "source": []
  }
 ],
 "metadata": {
  "kernelspec": {
   "display_name": "Python 3 (ipykernel)",
   "language": "python",
   "name": "python3"
  },
  "language_info": {
   "codemirror_mode": {
    "name": "ipython",
    "version": 3
   },
   "file_extension": ".py",
   "mimetype": "text/x-python",
   "name": "python",
   "nbconvert_exporter": "python",
   "pygments_lexer": "ipython3",
   "version": "3.9.13"
  }
 },
 "nbformat": 4,
 "nbformat_minor": 5
}
